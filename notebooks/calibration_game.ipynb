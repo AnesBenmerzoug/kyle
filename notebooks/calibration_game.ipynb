{
 "cells": [
  {
   "cell_type": "markdown",
   "source": [
    "# The calibration game\n",
    "\n",
    "This notebook demonstrates the backend of the calibration game. The \"difficulty level\" is controlled\n",
    "by the patient provider, both by its accuracy and calibration."
   ],
   "metadata": {
    "collapsed": false,
    "pycharm": {
     "name": "#%% md\n"
    }
   }
  },
  {
   "cell_type": "code",
   "execution_count": null,
   "metadata": {
    "collapsed": true
   },
   "outputs": [],
   "source": [
    "%load_ext autoreload\n",
    "%autoreload 2"
   ]
  },
  {
   "cell_type": "code",
   "execution_count": null,
   "outputs": [],
   "source": [
    "from game.game import Game, FakeClassifierPatientProvider\n",
    "from game.constants import Disease\n",
    "from game.util import confidences_df, treatment_effects_df\n",
    "from kale.sampling.fake_clf import DirichletFC"
   ],
   "metadata": {
    "collapsed": false,
    "pycharm": {
     "name": "#%%\n"
    }
   }
  },
  {
   "cell_type": "code",
   "execution_count": null,
   "outputs": [],
   "source": [
    "fake_clf = DirichletFC(len(list(Disease)))\n",
    "patient_provider = FakeClassifierPatientProvider(fake_clf)\n",
    "game = Game(patient_provider)"
   ],
   "metadata": {
    "collapsed": false,
    "pycharm": {
     "name": "#%%\n"
    }
   }
  },
  {
   "cell_type": "markdown",
   "source": [
    "## Gameplay\n",
    "\n",
    "The game is played round by round. Start a new round, look at the confidences and treatment effects and\n",
    "enter an treatment assignment for all patients in the current round.\n",
    "\n",
    "Executions are semi-irreversible and blocking. You cannot start a new round before playing the current one.\n",
    "After playing the current round, you no longer have access to it and have to start a new round to continue.\n",
    "\n",
    "There is no (official) way to modify past decisions, playing a round is irreversible.\n",
    "A current round which was not played and also the game itself can be reset though.\n",
    "\n",
    "Once the game has been ended, no further (official) modification is possible. You can only access the\n",
    "played rounds (e.g. for computing optimal treatments and so on) or reset the game, thereby deleting the\n",
    "history.\n",
    "\n",
    "Try it out and don't get discouraged if you run into errors by deviating from the game play - these\n",
    "error are intended."
   ],
   "metadata": {
    "collapsed": false,
    "pycharm": {
     "name": "#%% md\n"
    }
   }
  },
  {
   "cell_type": "code",
   "execution_count": null,
   "outputs": [],
   "source": [
    "# execute if you want to start again\n",
    "game.reset()"
   ],
   "metadata": {
    "collapsed": false,
    "pycharm": {
     "name": "#%%\n"
    }
   }
  },
  {
   "cell_type": "code",
   "execution_count": null,
   "outputs": [],
   "source": [
    "game.start_new_round(3)"
   ],
   "metadata": {
    "collapsed": false,
    "pycharm": {
     "name": "#%%\n"
    }
   }
  },
  {
   "cell_type": "code",
   "execution_count": null,
   "outputs": [],
   "source": [
    "print(\"Confidences\")\n",
    "confidences_df(game.current_round)"
   ],
   "metadata": {
    "collapsed": false,
    "pycharm": {
     "name": "#%%\n"
    }
   }
  },
  {
   "cell_type": "code",
   "execution_count": null,
   "outputs": [],
   "source": [
    "print(\"Treatment effects\")\n",
    "treatment_effects_df(game.current_round)"
   ],
   "metadata": {
    "collapsed": false,
    "pycharm": {
     "name": "#%%\n"
    }
   }
  },
  {
   "cell_type": "code",
   "execution_count": null,
   "outputs": [],
   "source": [
    "game.play_current_round({\n",
    "    game.current_round[0]: Disease.lung_cancer,\n",
    "    game.current_round[1]: Disease.flu,\n",
    "    game.current_round[2]: Disease.lung_cancer\n",
    "})"
   ],
   "metadata": {
    "collapsed": false,
    "pycharm": {
     "name": "#%%\n"
    }
   }
  },
  {
   "cell_type": "code",
   "execution_count": null,
   "outputs": [],
   "source": [
    "game.start_new_round(2)"
   ],
   "metadata": {
    "collapsed": false,
    "pycharm": {
     "name": "#%%\n"
    }
   }
  },
  {
   "cell_type": "code",
   "execution_count": null,
   "outputs": [],
   "source": [
    "print(\"Confidences\")\n",
    "confidences_df(game.current_round)"
   ],
   "metadata": {
    "collapsed": false,
    "pycharm": {
     "name": "#%%\n"
    }
   }
  },
  {
   "cell_type": "code",
   "execution_count": null,
   "outputs": [],
   "source": [
    "print(\"Treatment effects\")\n",
    "treatment_effects_df(game.current_round)"
   ],
   "metadata": {
    "collapsed": false,
    "pycharm": {
     "name": "#%%\n"
    }
   }
  },
  {
   "cell_type": "code",
   "execution_count": null,
   "outputs": [],
   "source": [
    "game.play_current_round({\n",
    "    game.current_round[0]: Disease.lung_cancer,\n",
    "    game.current_round[1]: Disease.bronchitis,\n",
    "})"
   ],
   "metadata": {
    "collapsed": false,
    "pycharm": {
     "name": "#%%\n"
    }
   }
  },
  {
   "cell_type": "code",
   "execution_count": null,
   "outputs": [],
   "source": [
    "played_rounds = game.played_rounds\n",
    "played_rounds"
   ],
   "metadata": {
    "collapsed": false,
    "pycharm": {
     "name": "#%%\n"
    }
   }
  },
  {
   "cell_type": "code",
   "execution_count": null,
   "outputs": [],
   "source": [
    "game.end()"
   ],
   "metadata": {
    "collapsed": false,
    "pycharm": {
     "name": "#%%\n"
    }
   }
  },
  {
   "cell_type": "code",
   "execution_count": null,
   "outputs": [],
   "source": [
    "\n"
   ],
   "metadata": {
    "collapsed": false,
    "pycharm": {
     "name": "#%%\n"
    }
   }
  }
 ],
 "metadata": {
  "kernelspec": {
   "display_name": "Python 3",
   "language": "python",
   "name": "python3"
  },
  "language_info": {
   "codemirror_mode": {
    "name": "ipython",
    "version": 2
   },
   "file_extension": ".py",
   "mimetype": "text/x-python",
   "name": "python",
   "nbconvert_exporter": "python",
   "pygments_lexer": "ipython2",
   "version": "2.7.6"
  }
 },
 "nbformat": 4,
 "nbformat_minor": 0
}