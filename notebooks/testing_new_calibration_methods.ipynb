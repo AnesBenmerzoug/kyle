{
 "cells": [
  {
   "cell_type": "code",
   "execution_count": null,
   "outputs": [],
   "source": [
    "# Note - this cell should be executed only once per session\n",
    "\n",
    "import sys, os\n",
    "\n",
    "# in order to get the config, it is not part of the library\n",
    "\n",
    "if os.path.basename(os.getcwd()) != \"notebooks\":\n",
    "    raise Exception(f\"Wrong directory. Did you execute this cell twice?\")\n",
    "os.chdir(\"..\")\n",
    "sys.path.append(os.path.abspath(\".\"))\n",
    "\n",
    "%load_ext autoreload\n",
    "%autoreload 2"
   ],
   "metadata": {
    "collapsed": false,
    "pycharm": {
     "name": "#%%\n"
    }
   }
  },
  {
   "cell_type": "code",
   "execution_count": null,
   "outputs": [],
   "source": [
    "import os\n",
    "import requests\n",
    "\n",
    "from kyle.calibration.calibration_methods import TemperatureScaling, ClassWiseCalibration, \\\n",
    "    ConfidenceReducedCalibration, BetaCalibration\n",
    "from kyle.evaluation import EvalStats\n",
    "from kyle.models.resnet import load_weights, resnet20, resnet56\n",
    "from kyle.datasets import resnet_denormalize_transform, get_cifar10_dataset\n",
    "\n",
    "import torch\n",
    "from scipy.special import softmax\n",
    "\n",
    "from sklearn.model_selection import StratifiedShuffleSplit, cross_val_score\n",
    "\n",
    "import numpy as np\n",
    "import matplotlib.cm as cm\n",
    "import matplotlib.pyplot as plt\n"
   ],
   "metadata": {
    "collapsed": false,
    "pycharm": {
     "name": "#%%\n"
    }
   }
  },
  {
   "cell_type": "markdown",
   "source": [
    "## Loading Models and Data"
   ],
   "metadata": {
    "collapsed": false,
    "pycharm": {
     "name": "#%% md\n"
    }
   }
  },
  {
   "cell_type": "code",
   "execution_count": null,
   "outputs": [],
   "source": [
    "# Adjust stuff in this cell\n",
    "\n",
    "# device = 'cuda'\n",
    "device = 'cpu'\n",
    "\n",
    "selected_resnet = \"resnet20\"\n",
    "# selected_resnet = \"resnet56\""
   ],
   "metadata": {
    "collapsed": false,
    "pycharm": {
     "name": "#%%\n"
    }
   }
  },
  {
   "cell_type": "code",
   "execution_count": null,
   "outputs": [],
   "source": [
    "weights_file_names = {\n",
    "    \"resnet20\": \"resnet20-12fca82f.th\",\n",
    "    \"resnet56\": \"resnet56-4bfd9763.th\",\n",
    "}\n",
    "\n",
    "models_dict = {\n",
    "    \"resnet20\": resnet20(),\n",
    "    \"resnet56\": resnet56(),\n",
    "}\n",
    "\n",
    "resnet_path = os.path.join(\"data\", \"artifacts\", weights_file_names[selected_resnet])\n",
    "cifar_10_data_path = os.path.join(\"data\", \"raw\", \"cifar10\")\n",
    "logits_save_path = os.path.join(\"data\", \"processed\", \"cifar10\", f\"logits_{selected_resnet}.npy\")"
   ],
   "metadata": {
    "collapsed": false,
    "pycharm": {
     "name": "#%%\n"
    }
   }
  },
  {
   "cell_type": "code",
   "execution_count": null,
   "outputs": [],
   "source": [
    "# Loading model and data\n",
    "\n",
    "if not os.path.isfile(resnet_path):\n",
    "    print(f\"Downloading weights for {selected_resnet}\")\n",
    "    os.makedirs(os.path.basename(resnet_path), exist_ok=True)\n",
    "    url = f\"https://github.com/akamaster/pytorch_resnet_cifar10/raw/master/pretrained_models/{weights_file_names[selected_resnet]}\"\n",
    "    r = requests.get(url)\n",
    "    with open(resnet_path, 'wb') as file:\n",
    "        file.write(r.content)\n",
    "\n",
    "resnet = models_dict[selected_resnet]\n",
    "load_weights(resnet_path, resnet)\n",
    "resnet.eval().to(device=device)\n",
    "\n",
    "cifar_10_X, cifar_10_Y = get_cifar10_dataset(cifar_10_data_path)\n",
    "\n",
    "sample_image = torch.moveaxis(resnet_denormalize_transform(cifar_10_X[0]), 0, 2)\n",
    "plt.figure(figsize=(1.5, 1.5))\n",
    "plt.title(\"Sample Cifar Image\")\n",
    "plt.imshow(sample_image)\n",
    "plt.show()"
   ],
   "metadata": {
    "collapsed": false,
    "pycharm": {
     "name": "#%%\n"
    }
   }
  },
  {
   "cell_type": "markdown",
   "source": [
    "## Computing (or loading) Confidence Vectors"
   ],
   "metadata": {
    "collapsed": false,
    "pycharm": {
     "name": "#%% md\n"
    }
   }
  },
  {
   "cell_type": "code",
   "execution_count": null,
   "outputs": [],
   "source": [
    "if os.path.isfile(logits_save_path):\n",
    "    logits = np.load(logits_save_path)\n",
    "else:\n",
    "    # processing all at once may not fit into ram\n",
    "    batch_boundaries = range(0, len(cifar_10_X) +1, 1000)\n",
    "\n",
    "    logits = []\n",
    "    for i in range(len(batch_boundaries) - 1):\n",
    "        print(f\"Processing batch {i+1}/{len(batch_boundaries)-1}\", end=\"\\r\")\n",
    "        lower, upper = batch_boundaries[i], batch_boundaries[i+1]\n",
    "        logits.append(resnet(cifar_10_X[lower:upper]).detach().numpy())\n",
    "\n",
    "    logits = np.vstack(logits)\n",
    "    os.makedirs(os.path.dirname(logits_save_path), exist_ok=True)\n",
    "    np.save(logits_save_path, logits, allow_pickle=False)\n",
    "\n",
    "\n",
    "confidences = softmax(logits, axis=1)\n",
    "gt_labels = cifar_10_Y.numpy()\n",
    "\n",
    "# if you run out of ram\n",
    "try:\n",
    "    del cifar_10_X\n",
    "    del cifar_10_Y\n",
    "except NameError:\n",
    "    pass"
   ],
   "metadata": {
    "collapsed": false,
    "pycharm": {
     "name": "#%%\n"
    }
   }
  },
  {
   "cell_type": "markdown",
   "source": [
    "## Visualizing Distribution of Confidences"
   ],
   "metadata": {
    "collapsed": false,
    "pycharm": {
     "name": "#%% md\n"
    }
   }
  },
  {
   "cell_type": "code",
   "execution_count": null,
   "outputs": [],
   "source": [
    "cmap = cm.get_cmap(\"tab10\")\n",
    "bins = 50\n",
    "\n",
    "fig, axes = plt.subplots(5, 2, figsize=(12, 18))\n",
    "fig.suptitle(\"Distribution of confidences in predicted classes\", fontsize=14)\n",
    "for count, row in enumerate(axes):\n",
    "    ax_left, ax_right = row\n",
    "    ax_left.set_title(f\"Predicted Class {count}\")\n",
    "    ax_right.set_title(f\"Predicted Class {count + 5}\")\n",
    "    color_left, color_right = cmap(count), cmap(count + 5)\n",
    "    max_confs_left = confidences[confidences.argmax(1) == count].max(1)\n",
    "    max_confs_right = confidences[confidences.argmax(1) == count + 5].max(1)\n",
    "    ax_left.hist(max_confs_left, density=True, color=color_left, bins=bins)\n",
    "    ax_right.hist(max_confs_right, density=True, color=color_right, bins=bins)\n",
    "\n",
    "plt.show()\n"
   ],
   "metadata": {
    "collapsed": false,
    "pycharm": {
     "name": "#%%\n"
    }
   }
  },
  {
   "cell_type": "markdown",
   "source": [
    "# Temperature Scaling in Full and Reduced"
   ],
   "metadata": {
    "collapsed": false,
    "pycharm": {
     "name": "#%% md\n"
    }
   }
  },
  {
   "cell_type": "markdown",
   "source": [
    "## Calibration Curves and ECE\n",
    "\n",
    "Here the initial reliability curve and ECE of the resnet"
   ],
   "metadata": {
    "collapsed": false,
    "pycharm": {
     "name": "#%% md\n"
    }
   }
  },
  {
   "cell_type": "code",
   "execution_count": null,
   "outputs": [],
   "source": [
    "bins = 40 # for ECE\n",
    "uncalibrated_eval_stats = EvalStats(gt_labels, confidences, bins=bins)"
   ],
   "metadata": {
    "collapsed": false,
    "pycharm": {
     "name": "#%%\n"
    }
   }
  },
  {
   "cell_type": "code",
   "execution_count": null,
   "outputs": [],
   "source": [
    "print(f\"ECE full problem: {uncalibrated_eval_stats.expected_calibration_error()}\")"
   ],
   "metadata": {
    "collapsed": false,
    "pycharm": {
     "name": "#%%\n"
    }
   }
  },
  {
   "cell_type": "code",
   "execution_count": null,
   "outputs": [],
   "source": [
    "uncalibrated_eval_stats.plot_reliability_curves([EvalStats.TOP_CLASS_LABEL], display_weights=True)\n",
    "plt.title(\"Full problem\")\n",
    "plt.show()"
   ],
   "metadata": {
    "collapsed": false,
    "pycharm": {
     "name": "#%%\n"
    }
   }
  },
  {
   "cell_type": "markdown",
   "source": [
    "## Simple Evaluation with Train/Validation Split"
   ],
   "metadata": {
    "collapsed": false,
    "pycharm": {
     "name": "#%% md\n"
    }
   }
  },
  {
   "cell_type": "code",
   "execution_count": null,
   "outputs": [],
   "source": [
    "test_size = 0.8\n",
    "bins = 30 # for ECE\n",
    "\n",
    "sss = StratifiedShuffleSplit(n_splits=1, test_size=test_size)\n",
    "train_index, test_index = list(sss.split(confidences, gt_labels))[0]\n",
    "confidences_train, gt_labels_train = confidences[train_index], gt_labels[train_index]\n",
    "confidences_test, gt_labels_test = confidences[test_index], gt_labels[test_index]"
   ],
   "metadata": {
    "collapsed": false,
    "pycharm": {
     "name": "#%%\n"
    }
   }
  },
  {
   "cell_type": "markdown",
   "source": [
    "## Reduced Temp Scaling"
   ],
   "metadata": {
    "collapsed": false,
    "pycharm": {
     "name": "#%% md\n"
    }
   }
  },
  {
   "cell_type": "code",
   "execution_count": null,
   "outputs": [],
   "source": [
    "t_scaling_full = TemperatureScaling()\n",
    "t_scaling_binary = ConfidenceReducedCalibration()"
   ],
   "metadata": {
    "collapsed": false,
    "pycharm": {
     "name": "#%%\n"
    }
   }
  },
  {
   "cell_type": "code",
   "execution_count": null,
   "outputs": [],
   "source": [
    "t_scaling_full.fit(confidences_train, gt_labels_train)\n",
    "t_scaling_binary.fit(confidences_train, gt_labels_train)"
   ],
   "metadata": {
    "collapsed": false,
    "pycharm": {
     "name": "#%%\n"
    }
   }
  },
  {
   "cell_type": "code",
   "execution_count": null,
   "outputs": [],
   "source": [
    "recalibrated_full_confs = t_scaling_full.get_calibrated_confidences(confidences_test)\n",
    "recalibrated_binary_confs = t_scaling_binary.get_calibrated_confidences(confidences_test)"
   ],
   "metadata": {
    "collapsed": false,
    "pycharm": {
     "name": "#%%\n"
    }
   }
  },
  {
   "cell_type": "code",
   "execution_count": null,
   "outputs": [],
   "source": [
    "recalibrated_full_eval_stats = EvalStats(gt_labels_test, recalibrated_full_confs, bins=bins)\n",
    "recalibrated_binary_eval_stats = EvalStats(gt_labels_test, recalibrated_binary_confs, bins=bins)\n",
    "\n",
    "print(f\"Reduced ECE: {recalibrated_binary_eval_stats.expected_calibration_error()}\")\n",
    "print(f\"Full ECE: {recalibrated_full_eval_stats.expected_calibration_error()}\")"
   ],
   "metadata": {
    "collapsed": false,
    "pycharm": {
     "name": "#%%\n"
    }
   }
  },
  {
   "cell_type": "code",
   "execution_count": null,
   "outputs": [],
   "source": [
    "recalibrated_full_eval_stats.plot_reliability_curves([EvalStats.TOP_CLASS_LABEL], display_weights=True)\n",
    "plt.title(\"Full problem\")\n",
    "plt.show()\n",
    "\n",
    "recalibrated_binary_eval_stats.plot_reliability_curves([EvalStats.TOP_CLASS_LABEL], display_weights=True)\n",
    "plt.title(\"Reduced problem\")\n",
    "plt.show()\n"
   ],
   "metadata": {
    "collapsed": false,
    "pycharm": {
     "name": "#%%\n"
    }
   }
  },
  {
   "cell_type": "markdown",
   "source": [
    "## Class-wise Temp Scaling"
   ],
   "metadata": {
    "collapsed": false,
    "pycharm": {
     "name": "#%% md\n"
    }
   }
  },
  {
   "cell_type": "code",
   "execution_count": null,
   "outputs": [],
   "source": [
    "classwise_scaler = ClassWiseCalibration()\n",
    "classwise_scaler.fit(confidences_train, gt_labels_train)"
   ],
   "metadata": {
    "collapsed": false,
    "pycharm": {
     "name": "#%%\n"
    }
   }
  },
  {
   "cell_type": "code",
   "execution_count": null,
   "outputs": [],
   "source": [
    "classwise_recalibrated_confs = classwise_scaler.get_calibrated_confidences(confidences_test)\n",
    "classwise_eval_stats = EvalStats(gt_labels_test, classwise_recalibrated_confs, bins=bins)"
   ],
   "metadata": {
    "collapsed": false,
    "pycharm": {
     "name": "#%%\n"
    }
   }
  },
  {
   "cell_type": "code",
   "execution_count": null,
   "outputs": [],
   "source": [
    "classwise_eval_stats.plot_reliability_curves([EvalStats.TOP_CLASS_LABEL], display_weights=True)"
   ],
   "metadata": {
    "collapsed": false,
    "pycharm": {
     "name": "#%%\n"
    }
   }
  },
  {
   "cell_type": "code",
   "execution_count": null,
   "outputs": [],
   "source": [
    "for class_label in range(10):\n",
    "    print(f\"Classwise marginal for class {class_label}: {classwise_eval_stats.expected_marginal_calibration_error(class_label)}\")\n",
    "    print(f\"Full marginal for class {class_label}: {recalibrated_full_eval_stats.expected_marginal_calibration_error(class_label)}\")"
   ],
   "metadata": {
    "collapsed": false,
    "pycharm": {
     "name": "#%%\n"
    }
   }
  },
  {
   "cell_type": "code",
   "execution_count": null,
   "outputs": [],
   "source": [
    "print(f\"Classwise ECE: {classwise_eval_stats.expected_calibration_error()}\")\n",
    "print(f\"Full ECE: {recalibrated_full_eval_stats.expected_calibration_error()}\")"
   ],
   "metadata": {
    "collapsed": false,
    "pycharm": {
     "name": "#%%\n"
    }
   }
  },
  {
   "cell_type": "markdown",
   "source": [
    "## Cross Validation"
   ],
   "metadata": {
    "collapsed": false,
    "pycharm": {
     "name": "#%% md\n"
    }
   }
  },
  {
   "cell_type": "code",
   "execution_count": null,
   "outputs": [],
   "source": [
    "temp = TemperatureScaling()\n",
    "beta = BetaCalibration()\n",
    "classwise_temt = ClassWiseCalibration()\n",
    "reduced_temp = ConfidenceReducedCalibration()\n",
    "classwise_beta = ClassWiseCalibration(BetaCalibration)\n",
    "classwise_reduced_temp = ConfidenceReducedCalibration(ClassWiseCalibration())"
   ],
   "metadata": {
    "collapsed": false,
    "pycharm": {
     "name": "#%%\n"
    }
   }
  },
  {
   "cell_type": "code",
   "execution_count": null,
   "outputs": [],
   "source": [
    "cv = 3\n",
    "bins = 100\n",
    "class_for_marginal_error = 9\n",
    "\n",
    "# bring in some randomness to this cell\n",
    "def compute_score(scaler, confs: np.ndarray, labels: np.ndarray, metric=\"ECE\"):\n",
    "    calibrated_confs = scaler.get_calibrated_confidences(confs)\n",
    "    eval_stats = EvalStats(labels, calibrated_confs, bins=bins)\n",
    "    if metric == \"ECE\":\n",
    "        return eval_stats.expected_calibration_error()\n",
    "    elif isinstance(metric, int):\n",
    "        return eval_stats.expected_marginal_calibration_error(metric)\n",
    "    else:\n",
    "        raise ValueError(f\"Unknown metric {metric}\")\n",
    "\n",
    "compute_score_class = lambda *args: compute_score(*args, metric=class_for_marginal_error)\n",
    "\n",
    "temp_scores = cross_val_score(temp, confidences, gt_labels, scoring=compute_score, cv=cv)\n",
    "beta_scores = cross_val_score(beta, confidences, gt_labels, scoring=compute_score, cv=cv)\n",
    "\n",
    "cw_temp_scores = cross_val_score(classwise_temt, confidences, gt_labels, scoring=compute_score, cv=cv)\n",
    "cw_beta_scores = cross_val_score(classwise_beta, confidences, gt_labels, scoring=compute_score, cv=cv)\n",
    "reduced_temp_scores = cross_val_score(reduced_temp, confidences, gt_labels, scoring=compute_score, cv=cv)\n",
    "cw_reduced_temp_scores = cross_val_score(classwise_reduced_temp, confidences, gt_labels, scoring=compute_score, cv=cv)\n",
    "\n",
    "marginal_temp_scores = cross_val_score(temp, confidences, gt_labels, scoring=compute_score_class, cv=cv)\n",
    "marginal_beta_scores = cross_val_score(beta, confidences, gt_labels, scoring=compute_score_class, cv=cv)\n",
    "marginal_cw_temp_scores = cross_val_score(classwise_temt, confidences, gt_labels, scoring=compute_score_class, cv=cv)\n",
    "marginal_cw_beta_scores = cross_val_score(classwise_beta, confidences, gt_labels, scoring=compute_score_class, cv=cv)"
   ],
   "metadata": {
    "collapsed": false,
    "pycharm": {
     "name": "#%%\n"
    }
   }
  },
  {
   "cell_type": "code",
   "execution_count": null,
   "outputs": [],
   "source": [
    "print(f\"CV with {cv} folds on {len(confidences)} data points. \\n\"\n",
    "      f\"Scores computed with {bins} bins\", end=\"\\n\\n\")\n",
    "\n",
    "def print_results(scores, name):\n",
    "    print(f\"scores for: {name}\")\n",
    "    print(scores)\n",
    "    print(\"Mean and std\")\n",
    "    print(scores.mean(), scores.std(), end=\"\\n\\n\\n\")\n",
    "\n",
    "print_results(temp_scores, \"Baseline 1 - ECE, temperature\")\n",
    "print_results(beta_scores, \"Baseline 2 - ECE, beta\")\n",
    "print_results(cw_temp_scores, \"ECE, Class-wise temperature\")\n",
    "print_results(cw_beta_scores, \"ECE, Class-wise beta\")\n",
    "print_results(reduced_temp_scores, \"ECE, Reduced temperature\")\n",
    "print_results(cw_reduced_temp_scores, \"ECE, Class-wise Reduced temperature\")\n",
    "\n",
    "print_results(marginal_temp_scores, \"Baseline 3 -Marginal, temperature\")\n",
    "print_results(marginal_beta_scores, \"Baseline 4 -Marginal, beta\")\n",
    "print_results(marginal_cw_temp_scores, \"Marginal, Class-wise temperature\")\n",
    "print_results(marginal_cw_beta_scores, \"Marginal, Class-wise beta\")"
   ],
   "metadata": {
    "collapsed": false,
    "pycharm": {
     "name": "#%%\n"
    }
   }
  },
  {
   "cell_type": "code",
   "execution_count": null,
   "outputs": [],
   "source": [],
   "metadata": {
    "collapsed": false,
    "pycharm": {
     "name": "#%%\n"
    }
   }
  },
  {
   "cell_type": "code",
   "execution_count": null,
   "outputs": [],
   "source": [],
   "metadata": {
    "collapsed": false,
    "pycharm": {
     "name": "#%%\n"
    }
   }
  }
 ],
 "metadata": {
  "kernelspec": {
   "display_name": "Python 3",
   "language": "python",
   "name": "python3"
  },
  "language_info": {
   "codemirror_mode": {
    "name": "ipython",
    "version": 2
   },
   "file_extension": ".py",
   "mimetype": "text/x-python",
   "name": "python",
   "nbconvert_exporter": "python",
   "pygments_lexer": "ipython2",
   "version": "2.7.6"
  }
 },
 "nbformat": 4,
 "nbformat_minor": 0
}