{
 "cells": [
  {
   "cell_type": "code",
   "execution_count": null,
   "metadata": {
    "collapsed": true
   },
   "outputs": [],
   "source": [
    "%load_ext autoreload\n",
    "%autoreload 2\n",
    "from kale.sampling.fake_clf import DirichletFC, SufficientlyConfidentFC, SufficientlyConfidentFCBuilder\n",
    "from kale.evaluation import EvalStats\n",
    "from kale.transformations import *\n",
    "import numpy as np\n",
    "import matplotlib.pyplot as plt"
   ]
  },
  {
   "cell_type": "code",
   "execution_count": null,
   "outputs": [],
   "source": [
    "n_classes = 3\n",
    "n_samples = 15000\n",
    "sufficiently_confident_fc = SufficientlyConfidentFCBuilder(n_classes).build()\n",
    "eval_stats = EvalStats(*sufficiently_confident_fc.get_sample_arrays(n_samples))"
   ],
   "metadata": {
    "collapsed": false,
    "pycharm": {
     "name": "#%%\n"
    }
   }
  },
  {
   "cell_type": "code",
   "execution_count": null,
   "outputs": [],
   "source": [
    "# this should converge to 1/2(1 + 1/num_classes)\n",
    "eval_stats.accuracy()"
   ],
   "metadata": {
    "collapsed": false,
    "pycharm": {
     "name": "#%%\n"
    }
   }
  },
  {
   "cell_type": "code",
   "execution_count": null,
   "outputs": [],
   "source": [
    "# barplot does something very strange when x-values are floats...\n",
    "# the zero values do not contribute to any calibration metric, there are simply no data points in that region\n",
    "\n",
    "# the default case is perfectly calibrated, ECE converges to zero\n",
    "plt.plot(np.arange(eval_stats.bins)/eval_stats.bins, np.arange(eval_stats.bins)/eval_stats.bins, marker=\"o\")\n",
    "plt.plot(*eval_stats.top_class_reliability_hist(), marker=\"o\")\n",
    "plt.plot(*eval_stats.marginal_reliability_hist(0), marker=\"o\")\n",
    "print(f\"ECE is {eval_stats.expected_calibration_error()}\")"
   ],
   "metadata": {
    "collapsed": false,
    "pycharm": {
     "name": "#%%\n"
    }
   }
  },
  {
   "cell_type": "code",
   "execution_count": null,
   "outputs": [],
   "source": [
    "overestimating_aut0 = MaxComponentSimplexAutomorphism(sufficiently_confident_fc.num_classes, lambda x: x**7)\n",
    "overestimating_aut1 = MaxComponentSimplexAutomorphism(sufficiently_confident_fc.num_classes, lambda x: x**2)\n",
    "sufficiently_confident_fc.set_simplex_automorphism(0, overestimating_aut0)\n",
    "sufficiently_confident_fc.set_simplex_automorphism(1, overestimating_aut1)"
   ],
   "metadata": {
    "collapsed": false,
    "pycharm": {
     "name": "#%%\n"
    }
   }
  },
  {
   "cell_type": "code",
   "execution_count": null,
   "outputs": [],
   "source": [
    "eval_stats_overestimating = EvalStats(*sufficiently_confident_fc.get_sample_arrays(n_samples))"
   ],
   "metadata": {
    "collapsed": false,
    "pycharm": {
     "name": "#%%\n"
    }
   }
  },
  {
   "cell_type": "code",
   "execution_count": null,
   "outputs": [],
   "source": [
    "print(eval_stats_overestimating.expected_calibration_error())\n",
    "print(eval_stats_overestimating.accuracy())"
   ],
   "metadata": {
    "collapsed": false,
    "pycharm": {
     "name": "#%%\n"
    }
   }
  },
  {
   "cell_type": "code",
   "execution_count": null,
   "outputs": [],
   "source": [
    "plt.plot(np.arange(eval_stats_overestimating.bins)/eval_stats_overestimating.bins, np.arange(eval_stats_overestimating.bins)/eval_stats_overestimating.bins, marker=\"o\")\n",
    "plt.plot(*eval_stats_overestimating.marginal_reliability_hist(0), marker=\"o\")\n",
    "plt.plot(*eval_stats_overestimating.marginal_reliability_hist(1), marker=\"o\")"
   ],
   "metadata": {
    "collapsed": false,
    "pycharm": {
     "name": "#%%\n"
    }
   }
  },
  {
   "cell_type": "code",
   "execution_count": null,
   "outputs": [],
   "source": [
    "diriclet_fc = DirichletFC(n_classes)\n",
    "dirichlet_eval_stats = EvalStats(*diriclet_fc.get_sample_arrays(n_samples))\n"
   ],
   "metadata": {
    "collapsed": false,
    "pycharm": {
     "name": "#%%\n"
    }
   }
  },
  {
   "cell_type": "code",
   "execution_count": null,
   "outputs": [],
   "source": [
    "print(dirichlet_eval_stats.accuracy())\n",
    "print(dirichlet_eval_stats.expected_calibration_error())"
   ],
   "metadata": {
    "collapsed": false,
    "pycharm": {
     "name": "#%%\n"
    }
   }
  },
  {
   "cell_type": "code",
   "execution_count": null,
   "outputs": [],
   "source": [
    "plt.plot(np.arange(dirichlet_eval_stats.bins)/dirichlet_eval_stats.bins, np.arange(dirichlet_eval_stats.bins)/dirichlet_eval_stats.bins, marker=\"o\")\n",
    "plt.plot(*dirichlet_eval_stats.top_class_reliability_hist(), marker=\"o\")"
   ],
   "metadata": {
    "collapsed": false,
    "pycharm": {
     "name": "#%%\n"
    }
   }
  },
  {
   "cell_type": "code",
   "execution_count": null,
   "outputs": [],
   "source": [
    "\n"
   ],
   "metadata": {
    "collapsed": false,
    "pycharm": {
     "name": "#%%\n"
    }
   }
  }
 ],
 "metadata": {
  "kernelspec": {
   "display_name": "Python 3",
   "language": "python",
   "name": "python3"
  },
  "language_info": {
   "codemirror_mode": {
    "name": "ipython",
    "version": 2
   },
   "file_extension": ".py",
   "mimetype": "text/x-python",
   "name": "python",
   "nbconvert_exporter": "python",
   "pygments_lexer": "ipython2",
   "version": "2.7.6"
  }
 },
 "nbformat": 4,
 "nbformat_minor": 0
}