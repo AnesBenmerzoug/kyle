{
 "cells": [
  {
   "cell_type": "code",
   "execution_count": null,
   "metadata": {
    "collapsed": true
   },
   "outputs": [],
   "source": [
    "%load_ext autoreload\n",
    "%autoreload 2\n",
    "from kyle.sampling.fake_clf import DirichletFC, SufficientlyConfidentFC, SufficientlyConfidentFCBuilder\n",
    "from kyle.evaluation import EvalStats\n",
    "from kyle.transformations import *\n",
    "import numpy as np\n",
    "import matplotlib.pyplot as plt"
   ]
  },
  {
   "cell_type": "code",
   "execution_count": null,
   "outputs": [],
   "source": [
    "n_classes = 3\n",
    "n_samples = 15000"
   ],
   "metadata": {
    "collapsed": false,
    "pycharm": {
     "name": "#%%\n"
    }
   }
  },
  {
   "cell_type": "markdown",
   "source": [
    "## Sufficiently confident fake classifiers\n",
    "\n",
    "This model has the advantage that several quantities can be computed analytically. However, several\n",
    "transformations introduce"
   ],
   "metadata": {
    "collapsed": false,
    "pycharm": {
     "name": "#%% md\n"
    }
   }
  },
  {
   "cell_type": "code",
   "execution_count": null,
   "outputs": [],
   "source": [
    "sufficiently_confident_fc = SufficientlyConfidentFCBuilder(n_classes).build()\n",
    "eval_stats = EvalStats(*sufficiently_confident_fc.get_sample_arrays(n_samples))\n",
    "# this should converge to 1/2(1 + 1/num_classes)\n",
    "print(f\"Accuracy is {eval_stats.accuracy()}\")\n",
    "# the default case is perfectly calibrated, ECE converges to zero\n",
    "print(f\"ECE is {eval_stats.expected_calibration_error()}\")\n",
    "\n",
    "eval_stats.plot_reliability_curves([0, EvalStats.TOP_CLASS_LABEL])\n"
   ],
   "metadata": {
    "collapsed": false,
    "pycharm": {
     "name": "#%%\n"
    }
   }
  },
  {
   "cell_type": "code",
   "execution_count": null,
   "outputs": [],
   "source": [
    "print(\"Overestimating classes 0 and 1\")\n",
    "\n",
    "overestimating_aut0 = MaxComponentSimplexAutomorphism(sufficiently_confident_fc.num_classes, lambda x: x**7)\n",
    "overestimating_aut1 = MaxComponentSimplexAutomorphism(sufficiently_confident_fc.num_classes, lambda x: x**2)\n",
    "overestimating_fc = SufficientlyConfidentFCBuilder(n_classes).\\\n",
    "    with_simplex_automorphisms([overestimating_aut0, overestimating_aut1, None]).build()\n",
    "\n",
    "eval_stats = EvalStats(*overestimating_fc.get_sample_arrays(n_samples))\n",
    "\n",
    "print(f\"Accuracy is {eval_stats.accuracy()}\")\n",
    "print(f\"ECE is {eval_stats.expected_calibration_error()}\")\n",
    "eval_stats.plot_reliability_curves([0, 1, eval_stats.TOP_CLASS_LABEL])\n"
   ],
   "metadata": {
    "collapsed": false,
    "pycharm": {
     "name": "#%%\n"
    }
   }
  },
  {
   "cell_type": "markdown",
   "source": [
    "## Dirichlet fake classifiers\n",
    "\n",
    "This model is not sufficiently confident but has reduced complexity. In particular, only one simplex\n",
    "automorphism has to be defined and it is difficult to produce such spurious correlations between classes\n",
    "as in the sufficiently confident model.\n",
    "\n",
    "On the downside, accuracy and ECE are hard to compute analytically..."
   ],
   "metadata": {
    "collapsed": false,
    "pycharm": {
     "name": "#%% md\n"
    }
   }
  },
  {
   "cell_type": "code",
   "execution_count": null,
   "outputs": [],
   "source": [
    "dirichlet_fc = DirichletFC(n_classes)"
   ],
   "metadata": {
    "collapsed": false,
    "pycharm": {
     "name": "#%%\n"
    }
   }
  },
  {
   "cell_type": "code",
   "execution_count": null,
   "outputs": [],
   "source": [
    "print(\"mostly overestimating all classes (starting at 1/n_classes)\")\n",
    "\n",
    "overestimating_power_aut = PowerLawSimplexAutomorphism(np.array([2, 2, 2]))\n",
    "dirichlet_fc.set_simplex_automorphism(overestimating_power_aut)\n",
    "eval_stats = EvalStats(*dirichlet_fc.get_sample_arrays(n_samples))\n",
    "\n",
    "print(f\"Accuracy is {eval_stats.accuracy()}\")\n",
    "print(f\"ECE is {eval_stats.expected_calibration_error()}\")\n",
    "eval_stats.plot_reliability_curves([0, 1, EvalStats.TOP_CLASS_LABEL])"
   ],
   "metadata": {
    "collapsed": false,
    "pycharm": {
     "name": "#%%\n"
    }
   }
  },
  {
   "cell_type": "code",
   "execution_count": null,
   "outputs": [],
   "source": [
    "print(\"mostly underestimating all classes (starting at 1/n_classes)\")\n",
    "\n",
    "underestimating_power_aut = PowerLawSimplexAutomorphism(np.array([0.3, 0.3, 0.3]))\n",
    "dirichlet_fc.set_simplex_automorphism(underestimating_power_aut)\n",
    "eval_stats = EvalStats(*dirichlet_fc.get_sample_arrays(n_samples))\n",
    "\n",
    "print(f\"Accuracy is {eval_stats.accuracy()}\")\n",
    "print(f\"ECE is {eval_stats.expected_calibration_error()}\")\n",
    "eval_stats.plot_reliability_curves([0, 1, EvalStats.TOP_CLASS_LABEL])\n"
   ],
   "metadata": {
    "collapsed": false,
    "pycharm": {
     "name": "#%%\n"
    }
   }
  },
  {
   "cell_type": "code",
   "execution_count": null,
   "outputs": [],
   "source": [
    "print(\"Overestimating predictions\")\n",
    "\n",
    "overestimating_predicted_class = MaxComponentSimplexAutomorphism(n_classes, lambda x: x/2)\n",
    "dirichlet_fc.set_simplex_automorphism(overestimating_predicted_class)\n",
    "eval_stats = EvalStats(*dirichlet_fc.get_sample_arrays(n_samples))\n",
    "\n",
    "print(f\"Accuracy is {eval_stats.accuracy()}\")\n",
    "print(f\"ECE is {eval_stats.expected_calibration_error()}\")\n",
    "eval_stats.plot_reliability_curves([0, 1, EvalStats.TOP_CLASS_LABEL])"
   ],
   "metadata": {
    "collapsed": false,
    "pycharm": {
     "name": "#%%\n"
    }
   }
  },
  {
   "cell_type": "code",
   "execution_count": null,
   "outputs": [],
   "source": [
    "print(\"Overestimating class 0\")\n",
    "\n",
    "overestimating_0 = SingleComponentSimplexAutomorphism(n_classes, 0, lambda x: x/2)\n",
    "dirichlet_fc.set_simplex_automorphism(overestimating_0)\n",
    "eval_stats = EvalStats(*dirichlet_fc.get_sample_arrays(n_samples))\n",
    "\n",
    "print(f\"Accuracy is {eval_stats.accuracy()}\")\n",
    "print(f\"ECE is {eval_stats.expected_calibration_error()}\")\n",
    "eval_stats.plot_reliability_curves([0, 1, EvalStats.TOP_CLASS_LABEL])"
   ],
   "metadata": {
    "collapsed": false,
    "pycharm": {
     "name": "#%%\n"
    }
   }
  },
  {
   "cell_type": "code",
   "execution_count": null,
   "outputs": [],
   "source": [
    "\n"
   ],
   "metadata": {
    "collapsed": false,
    "pycharm": {
     "name": "#%%\n"
    }
   }
  }
 ],
 "metadata": {
  "kernelspec": {
   "display_name": "Python 3",
   "language": "python",
   "name": "python3"
  },
  "language_info": {
   "codemirror_mode": {
    "name": "ipython",
    "version": 2
   },
   "file_extension": ".py",
   "mimetype": "text/x-python",
   "name": "python",
   "nbconvert_exporter": "python",
   "pygments_lexer": "ipython2",
   "version": "2.7.6"
  }
 },
 "nbformat": 4,
 "nbformat_minor": 0
}